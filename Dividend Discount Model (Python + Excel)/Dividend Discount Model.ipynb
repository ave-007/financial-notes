{
 "cells": [
  {
   "cell_type": "markdown",
   "id": "85c04b93-d1f1-4388-bf6c-c85917ec5b26",
   "metadata": {},
   "source": [
    "<h1> Dividend Discount Model Data Collection and Export <h1>"
   ]
  },
  {
   "cell_type": "markdown",
   "id": "46ceeee6-954e-4367-8065-300f0e06315e",
   "metadata": {},
   "source": [
    "## Create an Empty DataFrame\n",
    "\n",
    "Initialize an empty DataFrame, `all_data`, to serve as a container for the combined data of all stock tickers.\n",
    "\n",
    "## Loop through Each Ticker\n",
    "\n",
    "For each stock ticker in our list (`stocks`), we’ll download historical data for the specified date range.\n",
    "\n",
    "## Download and Format Data\n",
    "\n",
    "- Use the `yfinance` library to download historical stock data, including prices and dividends.\n",
    "- Format the date index to display only the date (removing the timestamp) for clarity in the final dataset.\n",
    "\n",
    "## Filter for Dividend Payments\n",
    "\n",
    "- Filter the data to include only dates where dividends were paid (i.e., rows where the `Dividends` column is greater than zero).\n",
    "- Select relevant columns, such as `Adj Close`, `Close`, and `Dividends`, to focus on essential data for dividend analysis.\n",
    "\n",
    "## Handle Missing Data\n",
    "\n",
    "Remove any rows with NaN values to ensure the data is clean and ready for analysis.\n",
    "\n",
    "## Display and Verify\n",
    "\n",
    "Display the dividend data for each stock ticker as we go to ensure accuracy before merging all data into `all_data`.\n",
    "\n",
    "\n"
   ]
  },
  {
   "cell_type": "markdown",
   "id": "fc4794d9-890a-4b0f-ab8a-553252fcf5bc",
   "metadata": {},
   "source": [
    "**Explanation:** Here, we import the essential libraries for our data analysis and portfolio optimization. This includes pandas for data handling and numpy for numerical operations.\n",
    "- **yfinance**: A library that allows easy access to financial data from Yahoo Finance, making it convenient to download historical price data for stocks and other financial assets.\n",
    "- **pandas**: A powerful data manipulation library in Python that provides data structures like DataFrames for handling large datasets with ease.\n",
    "- **pandas_datareader**: A library that retrieves data from various online sources, including Yahoo Finance, though `yfinance` is primarily used here.\n",
    "- **datetime**: A Python module for manipulating dates and times, essential for setting up date ranges for data retrieval.\n",
    "- **numpy**: A library that provides support for large, multi-dimensional arrays and matrices, as well as a collection of mathematical functions to operate on these arrays.\n",
    "- **os**: A module that provides a way of using operating system-dependent functionality, such as file and directory management."
   ]
  },
  {
   "cell_type": "code",
   "execution_count": 2,
   "id": "45854425-576f-4c35-9c06-caef11579783",
   "metadata": {},
   "outputs": [],
   "source": [
    "import yfinance as yf\n",
    "import pandas as pd\n",
    "from pandas_datareader import data as pdr\n",
    "import datetime as dt\n",
    "import numpy as np\n",
    "import matplotlib.pyplot as plt\n",
    "import os\n",
    "from IPython.display import display  # For displaying data nicely in Jupyter Notebook\n",
    "import datetime as dt\n",
    "\n",
    "# Configure pandas to display full text in cells\n",
    "pd.set_option('display.max_colwidth', None)  # Show full text in columns without truncation\n",
    "pd.set_option('display.max_columns', None)   # Show all columns\n",
    "pd.set_option('display.expand_frame_repr', False)  # Disable line wrapping\n",
    "# pd.set_option('display.max_rows', None)   # Uncomment to show all rows\n",
    "pd.set_option('display.max_columns', None)\n"
   ]
  },
  {
   "cell_type": "markdown",
   "id": "dbe0544a-2989-43ae-a408-d2619ae62800",
   "metadata": {},
   "source": [
    "**In this step, we set up the date range for our analysis. Specifically, we calculate today’s date and a date 5 years ago to serve as our start date for data retrieval.**"
   ]
  },
  {
   "cell_type": "code",
   "execution_count": 3,
   "id": "7a2925de-1e1c-42ac-87c5-40254e5d5737",
   "metadata": {},
   "outputs": [
    {
     "data": {
      "text/plain": [
       "(datetime.date(2024, 11, 7), datetime.date(2014, 11, 10))"
      ]
     },
     "execution_count": 3,
     "metadata": {},
     "output_type": "execute_result"
    }
   ],
   "source": [
    "endDate = dt.datetime.now().date()  \n",
    "startDate = (dt.datetime.now() - dt.timedelta(days=365*10)).date()  \n",
    "\n",
    "endDate, startDate\n"
   ]
  },
  {
   "cell_type": "markdown",
   "id": "f6564357-7346-430f-a7b5-5bc0d4c49348",
   "metadata": {},
   "source": [
    "**Here, we define a list of stock tickers that will make up our portfolio. These represent a mix of asset classes to diversify the portfolio.**"
   ]
  },
  {
   "cell_type": "markdown",
   "id": "9a6e66e5-105f-427b-a443-7b9f77e8bccd",
   "metadata": {},
   "source": [
    "### Tickers in the Portfolio\n",
    "\n",
    "Here’s a list of 10 U.S. companies known for stable dividend payments:\n",
    "\n",
    "- **International Business Machines Corp. (IBM)**: A major player in information technology with a strong history of dividend payments.\n",
    "- **NextEra Energy (NEE)**: A leader in renewable energy, known for reliable dividends.\n",
    "- **Caterpillar Inc. (CAT)**: A heavy equipment manufacturer with a long track record of increasing dividends.\n",
    "- **Realty Income Corporation (O)**: A real estate investment trust (REIT) that pays monthly dividends.\n",
    "- **Albemarle Corporation (ALB)**: A major lithium producer with regular dividend payouts.\n",
    "- **Essex Property Trust (ESS)**: A REIT specializing in residential properties, offering consistent dividends.\n",
    "- **Brown & Brown, Inc. (BRO)**: An insurance brokerage firm with steady dividend payments.\n",
    "- **West Pharmaceutical Services, Inc. (WST)**: A healthcare company known for regular dividends.\n",
    "- **Ecolab Inc. (ECL)**: A provider of water treatment and hygiene solutions, with stable dividend payments.\n",
    "- **Chevron Corporation (CVX)**: One of the largest oil and gas companies globally, known for steady dividends.\n",
    "\n"
   ]
  },
  {
   "cell_type": "code",
   "execution_count": 8,
   "id": "9e1cfa71-be3a-4053-91f5-5510bb95907e",
   "metadata": {},
   "outputs": [],
   "source": [
    "stocks = ['IBM', 'NEE', 'CAT', 'O', 'ALB', 'ESS', 'BRO', 'WST', 'ECL', 'CVX']\n"
   ]
  },
  {
   "cell_type": "code",
   "execution_count": 9,
   "id": "607470ba-8b55-4022-85d6-709d9769c503",
   "metadata": {},
   "outputs": [
    {
     "name": "stderr",
     "output_type": "stream",
     "text": [
      "[*********************100%***********************]  1 of 1 completed\n",
      "[*********************100%***********************]  1 of 1 completed\n",
      "[*********************100%***********************]  1 of 1 completed\n",
      "[*********************100%***********************]  1 of 1 completed\n",
      "[*********************100%***********************]  1 of 1 completed\n",
      "[*********************100%***********************]  1 of 1 completed\n",
      "[*********************100%***********************]  1 of 1 completed\n",
      "[*********************100%***********************]  1 of 1 completed\n",
      "[*********************100%***********************]  1 of 1 completed\n",
      "[*********************100%***********************]  1 of 1 completed\n"
     ]
    },
    {
     "name": "stdout",
     "output_type": "stream",
     "text": [
      "Data successfully saved to C:\\Users\\qwerty\\Desktop\\Python\\JNotebook\\start\\Dividend Discount Model (Python + Excel)\\Dividend Discount Model.xlsx with a separate sheet for today's closing prices.\n"
     ]
    }
   ],
   "source": [
    "# Path for saving the file\n",
    "output_folder = r\"C:\\Users\\qwerty\\Desktop\\Python\\JNotebook\\start\\Dividend Discount Model (Python + Excel)\"\n",
    "output_path = os.path.join(output_folder, 'Dividend Discount Model.xlsx')\n",
    "\n",
    "# Create a dictionary to store the latest closing prices\n",
    "latest_close_prices = {}\n",
    "\n",
    "# Create an Excel file with separate sheets\n",
    "with pd.ExcelWriter(output_path) as writer:\n",
    "    for stock in stocks:\n",
    "        # Download data for the ticker\n",
    "        df = yf.download(stock, start=startDate, end=endDate, actions=True)\n",
    "        df.index = df.index.date\n",
    "        \n",
    "        # Filter for dividends and remove NaN values\n",
    "        dividend_data = df[df[\"Dividends\"] > 0][[\"Adj Close\", \"Close\", \"Dividends\"]].dropna()\n",
    "        \n",
    "        # Add dividend data to a separate sheet\n",
    "        dividend_data.to_excel(writer, sheet_name=stock)\n",
    "        \n",
    "        # Save the latest closing price\n",
    "        latest_close_prices[stock] = df[\"Close\"].iloc[-1]\n",
    "\n",
    "    # Create a DataFrame with the latest closing prices\n",
    "    latest_close_df = pd.DataFrame(list(latest_close_prices.items()), columns=[\"Ticker\", \"Close Price Today\"])\n",
    "    \n",
    "    # Write the DataFrame with the latest closing prices to a separate sheet\n",
    "    latest_close_df.to_excel(writer, sheet_name=\"Close Price Today\", index=False)\n",
    "\n",
    "print(f\"Data successfully saved to {output_path} with a separate sheet for today's closing prices.\")\n"
   ]
  },
  {
   "cell_type": "markdown",
   "id": "ef33cab0-896f-49cf-ab6c-689ab324f6fd",
   "metadata": {},
   "source": [
    "**The next step is to analyze the assets and calculate the Sharpe ratio in 'optimal_portfolio.xlsx'. Additionally, refer to the README for all necessary instructions.**"
   ]
  }
 ],
 "metadata": {
  "kernelspec": {
   "display_name": "newkarnel5.0",
   "language": "python",
   "name": "newkarnel5.0"
  },
  "language_info": {
   "codemirror_mode": {
    "name": "ipython",
    "version": 3
   },
   "file_extension": ".py",
   "mimetype": "text/x-python",
   "name": "python",
   "nbconvert_exporter": "python",
   "pygments_lexer": "ipython3",
   "version": "3.13.0"
  }
 },
 "nbformat": 4,
 "nbformat_minor": 5
}
